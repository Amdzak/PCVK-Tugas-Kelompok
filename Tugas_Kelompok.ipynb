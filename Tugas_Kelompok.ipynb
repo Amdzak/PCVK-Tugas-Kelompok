{
  "nbformat": 4,
  "nbformat_minor": 0,
  "metadata": {
    "colab": {
      "provenance": [],
      "include_colab_link": true
    },
    "kernelspec": {
      "name": "python3",
      "display_name": "Python 3"
    },
    "language_info": {
      "name": "python"
    }
  },
  "cells": [
    {
      "cell_type": "markdown",
      "metadata": {
        "id": "view-in-github",
        "colab_type": "text"
      },
      "source": [
        "<a href=\"https://colab.research.google.com/github/Amdzak/PCVK-Tugas-Kelompok/blob/main/Tugas_Kelompok.ipynb\" target=\"_parent\"><img src=\"https://colab.research.google.com/assets/colab-badge.svg\" alt=\"Open In Colab\"/></a>"
      ]
    },
    {
      "cell_type": "markdown",
      "source": [
        "# Bagian A – Observasi & Eksperimen\n"
      ],
      "metadata": {
        "id": "0RZ1l5MGz2vb"
      }
    },
    {
      "cell_type": "markdown",
      "source": [
        "## 1. Tampilkan histogram tiap citra dan analisis distribusi intensitasnya."
      ],
      "metadata": {
        "id": "CEIgK_os5r3M"
      }
    },
    {
      "cell_type": "code",
      "source": [
        "# Kode disini\n",
        ".\n",
        ".\n",
        "."
      ],
      "metadata": {
        "id": "YLUbmcZB6AMG"
      },
      "execution_count": null,
      "outputs": []
    },
    {
      "cell_type": "markdown",
      "source": [
        "## 2. Terapkan transformasi brightness dan contrast (linear/log brightness).\n",
        "- Tentukan nilai b (brightness) dan a (contrast) yang sesuai."
      ],
      "metadata": {
        "id": "ZrzMK01f5xS2"
      }
    },
    {
      "cell_type": "code",
      "source": [
        "# Kode disini\n",
        ".\n",
        ".\n",
        "."
      ],
      "metadata": {
        "id": "miY-4iQ_6EjC"
      },
      "execution_count": null,
      "outputs": []
    },
    {
      "cell_type": "markdown",
      "source": [
        "## 3. Lakukan histogram equalization untuk memperbaiki sebaran kontras.\n",
        "- Bandingkan hasil visual dan histogram sebelum–sesudah."
      ],
      "metadata": {
        "id": "_dX9ztQ-55wB"
      }
    },
    {
      "cell_type": "code",
      "source": [
        "# Kode disini\n",
        ".\n",
        ".\n",
        "."
      ],
      "metadata": {
        "id": "tHoQuP016FGZ"
      },
      "execution_count": null,
      "outputs": []
    },
    {
      "cell_type": "markdown",
      "source": [
        "## 4. Terapkan filter spasial:\n",
        "- Low-pass filter untuk menghaluskan noise.\n",
        "- High-pass atau Laplacian filter untuk menajamkan tepi"
      ],
      "metadata": {
        "id": "woBQc3aD59X5"
      }
    },
    {
      "cell_type": "code",
      "source": [
        "# Kode disini\n",
        ".\n",
        ".\n",
        "."
      ],
      "metadata": {
        "id": "TwrfZPuR6alx"
      },
      "execution_count": null,
      "outputs": []
    },
    {
      "cell_type": "markdown",
      "source": [
        "## 5. Implementasikan Floyd–Steinberg Dithering untuk menurunkan kedalaman warna(bit- depth 4–6 bit), lalu analisis bagaimana efeknya terhadap detail."
      ],
      "metadata": {
        "id": "pGJD0cj56UQr"
      }
    },
    {
      "cell_type": "code",
      "source": [
        "# Kode disini\n",
        ".\n",
        ".\n",
        "."
      ],
      "metadata": {
        "id": "vd6JcbAp6a_Q"
      },
      "execution_count": null,
      "outputs": []
    },
    {
      "cell_type": "markdown",
      "source": [
        "# Bagian B – Analisis"
      ],
      "metadata": {
        "id": "V053pUga0-rL"
      }
    },
    {
      "cell_type": "markdown",
      "source": [
        "## 1. Bagaimana perubahan nilai brightness dan contrast memengaruhi hasil histogramcitragelap?\n",
        "\n",
        "**Jawaban:**"
      ],
      "metadata": {
        "id": "eOOpgg0A6fKM"
      }
    },
    {
      "cell_type": "markdown",
      "source": [
        "## 2. Apakah histogram equalization selalu memperbaiki detail? Jelaskan alasannya dengancontoh hasil Anda.\n",
        "\n",
        "**Jawaban:**"
      ],
      "metadata": {
        "id": "CMxTsAto6ldC"
      }
    },
    {
      "cell_type": "markdown",
      "source": [
        "## 3. Bandingkan hasil low-pass dan high-pass filter pada citra — apakah ada pengaruhnya?\n",
        "\n",
        "**Jawaban:**"
      ],
      "metadata": {
        "id": "ZvF8eKvb6qnO"
      }
    },
    {
      "cell_type": "markdown",
      "source": [
        "## 4. Jelaskan pengaruh proses dithering terhadap citra yang Anda miliki?\n",
        "\n",
        "**Jawaban:**"
      ],
      "metadata": {
        "id": "j0wZvmi26zcp"
      }
    },
    {
      "cell_type": "markdown",
      "source": [
        "## 5. Berdasarkan hasil percobaan Anda, kombinasi teknik mana yang paling efektif untukmeningkatkan detail citra sebelum tahap deteksi?\n",
        "\n",
        "**Jawaban:**"
      ],
      "metadata": {
        "id": "rFalJHhD68Ck"
      }
    },
    {
      "cell_type": "markdown",
      "source": [
        "# Bagian C – Implementasi (Python–OpenCV)"
      ],
      "metadata": {
        "id": "eFJZYAMc0-rL"
      }
    },
    {
      "cell_type": "markdown",
      "source": [
        "## Function **BC Brightness & Contrast**"
      ],
      "metadata": {
        "id": "E26-QuJl7INg"
      }
    },
    {
      "cell_type": "code",
      "source": [
        "# Kode disini\n",
        ".\n",
        ".\n",
        "."
      ],
      "metadata": {
        "id": "Y9zJAB457fwW"
      },
      "execution_count": null,
      "outputs": []
    },
    {
      "cell_type": "markdown",
      "source": [
        "## Funciton **HE Histogram Equalization**"
      ],
      "metadata": {
        "id": "z-kxal2D7PPc"
      }
    },
    {
      "cell_type": "code",
      "source": [
        "# Kode disini\n",
        ".\n",
        ".\n",
        "."
      ],
      "metadata": {
        "id": "gN-jYNSy7gJX"
      },
      "execution_count": null,
      "outputs": []
    },
    {
      "cell_type": "markdown",
      "source": [
        "## Function **Spatial Filtering**"
      ],
      "metadata": {
        "id": "m0QmBTGj7Syb"
      }
    },
    {
      "cell_type": "code",
      "source": [
        "# Kode disini\n",
        ".\n",
        ".\n",
        "."
      ],
      "metadata": {
        "id": "n-TbIguR7gf5"
      },
      "execution_count": null,
      "outputs": []
    },
    {
      "cell_type": "markdown",
      "source": [
        "## Function **Dithered**"
      ],
      "metadata": {
        "id": "XF3isiYx7Yd9"
      }
    },
    {
      "cell_type": "code",
      "source": [
        "# Kode disini\n",
        ".\n",
        ".\n",
        "."
      ],
      "metadata": {
        "id": "cMvGKLQv7g4m"
      },
      "execution_count": null,
      "outputs": []
    },
    {
      "cell_type": "markdown",
      "source": [
        "## Tampilkan hasil 4 tahap (asli → BC → HE → Filter → Dithered)."
      ],
      "metadata": {
        "id": "Rh-MYqvy78SH"
      }
    },
    {
      "cell_type": "code",
      "source": [
        "# Kode disini\n",
        ".\n",
        ".\n",
        "."
      ],
      "metadata": {
        "id": "ISkvxec97_dX"
      },
      "execution_count": null,
      "outputs": []
    },
    {
      "cell_type": "markdown",
      "source": [
        "# Bagian D – Analisis Akhir & Kesimpulan"
      ],
      "metadata": {
        "id": "3EnMywVQ0-rL"
      }
    }
  ]
}